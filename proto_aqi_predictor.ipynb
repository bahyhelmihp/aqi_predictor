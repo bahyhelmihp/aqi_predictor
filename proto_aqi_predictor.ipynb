{
 "cells": [
  {
   "cell_type": "markdown",
   "id": "bbe313a1-dfbe-4f46-9f8c-b56488f0cd1e",
   "metadata": {},
   "source": [
    "#### AQI Predictor Prototype\n",
    "##### **Goal**: Predict the next 24 hour AQI, based on the past 12-hour data (30 mins-interval) \n",
    "##### **Last Updated**: 17/06/2025\n",
    "- Bahy Helmi Hartoyo Putra\n",
    "- bahyhelmi97@gmail.com\n"
   ]
  },
  {
   "cell_type": "markdown",
   "id": "3b99bbf8-7e50-4960-8304-51a5e1bf3116",
   "metadata": {},
   "source": [
    "#### Training Pipeline"
   ]
  },
  {
   "cell_type": "code",
   "execution_count": 22,
   "id": "ac8d07ad-290e-4c75-a139-53173a22a5a6",
   "metadata": {},
   "outputs": [],
   "source": [
    "# 1. Import Libraries\n",
    "import pandas as pd\n",
    "import numpy as np\n",
    "from sklearn.preprocessing import StandardScaler\n",
    "from sklearn.multioutput import MultiOutputRegressor\n",
    "from sklearn.ensemble import GradientBoostingRegressor\n",
    "from sklearn.model_selection import train_test_split\n",
    "from sklearn.metrics import mean_absolute_error\n",
    "import joblib\n",
    "import matplotlib.pyplot as plt"
   ]
  },
  {
   "cell_type": "code",
   "execution_count": 38,
   "id": "c2648a9e-28e5-44e7-966d-73edcd23cf12",
   "metadata": {},
   "outputs": [
    {
     "name": "stdout",
     "output_type": "stream",
     "text": [
      "(97, 37)\n"
     ]
    },
    {
     "data": {
      "text/html": [
       "<div>\n",
       "<style scoped>\n",
       "    .dataframe tbody tr th:only-of-type {\n",
       "        vertical-align: middle;\n",
       "    }\n",
       "\n",
       "    .dataframe tbody tr th {\n",
       "        vertical-align: top;\n",
       "    }\n",
       "\n",
       "    .dataframe thead th {\n",
       "        text-align: right;\n",
       "    }\n",
       "</style>\n",
       "<table border=\"1\" class=\"dataframe\">\n",
       "  <thead>\n",
       "    <tr style=\"text-align: right;\">\n",
       "      <th></th>\n",
       "      <th>created_at</th>\n",
       "      <th>updated_at</th>\n",
       "      <th>id</th>\n",
       "      <th>timestamp</th>\n",
       "      <th>PM25</th>\n",
       "      <th>PM10</th>\n",
       "      <th>O3</th>\n",
       "      <th>SO2</th>\n",
       "      <th>NO</th>\n",
       "      <th>NO2</th>\n",
       "      <th>...</th>\n",
       "      <th>AQI</th>\n",
       "      <th>AQI_detail</th>\n",
       "      <th>AQI_parameter</th>\n",
       "      <th>PM25_AQI</th>\n",
       "      <th>PM10_AQI</th>\n",
       "      <th>O3_AQI</th>\n",
       "      <th>SO2_AQI</th>\n",
       "      <th>NO2_AQI</th>\n",
       "      <th>CO_AQI</th>\n",
       "      <th>CH4_AQI</th>\n",
       "    </tr>\n",
       "  </thead>\n",
       "  <tbody>\n",
       "    <tr>\n",
       "      <th>6691</th>\n",
       "      <td>2025-05-24 11:53:53.958527+00</td>\n",
       "      <td>2025-05-29 09:23:37.76187+00</td>\n",
       "      <td>13559</td>\n",
       "      <td>2025-05-22 18:30:00+00:00</td>\n",
       "      <td>17.0167</td>\n",
       "      <td>28.0616</td>\n",
       "      <td>18.6344</td>\n",
       "      <td>6.9171</td>\n",
       "      <td>2.2333</td>\n",
       "      <td>35.3888</td>\n",
       "      <td>...</td>\n",
       "      <td>78</td>\n",
       "      <td>{\"CO\": 21, \"O3\": 11, \"CH4\": 4, \"NO2\": 29, \"SO2...</td>\n",
       "      <td>PM25</td>\n",
       "      <td>78</td>\n",
       "      <td>40</td>\n",
       "      <td>11</td>\n",
       "      <td>9</td>\n",
       "      <td>29</td>\n",
       "      <td>21</td>\n",
       "      <td>4</td>\n",
       "    </tr>\n",
       "    <tr>\n",
       "      <th>6692</th>\n",
       "      <td>2025-05-24 11:53:53.961339+00</td>\n",
       "      <td>2025-05-29 09:30:38.84316+00</td>\n",
       "      <td>13560</td>\n",
       "      <td>2025-05-22 19:00:00+00:00</td>\n",
       "      <td>26.7487</td>\n",
       "      <td>40.9343</td>\n",
       "      <td>21.5069</td>\n",
       "      <td>6.9354</td>\n",
       "      <td>1.0469</td>\n",
       "      <td>25.4352</td>\n",
       "      <td>...</td>\n",
       "      <td>77</td>\n",
       "      <td>{\"CO\": 21, \"O3\": 11, \"CH4\": 4, \"NO2\": 28, \"SO2...</td>\n",
       "      <td>PM25</td>\n",
       "      <td>77</td>\n",
       "      <td>40</td>\n",
       "      <td>11</td>\n",
       "      <td>9</td>\n",
       "      <td>28</td>\n",
       "      <td>21</td>\n",
       "      <td>4</td>\n",
       "    </tr>\n",
       "  </tbody>\n",
       "</table>\n",
       "<p>2 rows × 37 columns</p>\n",
       "</div>"
      ],
      "text/plain": [
       "                         created_at                    updated_at     id  \\\n",
       "6691  2025-05-24 11:53:53.958527+00  2025-05-29 09:23:37.76187+00  13559   \n",
       "6692  2025-05-24 11:53:53.961339+00  2025-05-29 09:30:38.84316+00  13560   \n",
       "\n",
       "                     timestamp     PM25     PM10       O3     SO2      NO  \\\n",
       "6691 2025-05-22 18:30:00+00:00  17.0167  28.0616  18.6344  6.9171  2.2333   \n",
       "6692 2025-05-22 19:00:00+00:00  26.7487  40.9343  21.5069  6.9354  1.0469   \n",
       "\n",
       "          NO2  ...  AQI                                         AQI_detail  \\\n",
       "6691  35.3888  ...   78  {\"CO\": 21, \"O3\": 11, \"CH4\": 4, \"NO2\": 29, \"SO2...   \n",
       "6692  25.4352  ...   77  {\"CO\": 21, \"O3\": 11, \"CH4\": 4, \"NO2\": 28, \"SO2...   \n",
       "\n",
       "      AQI_parameter  PM25_AQI  PM10_AQI  O3_AQI  SO2_AQI  NO2_AQI  CO_AQI  \\\n",
       "6691           PM25        78        40      11        9       29      21   \n",
       "6692           PM25        77        40      11        9       28      21   \n",
       "\n",
       "      CH4_AQI  \n",
       "6691        4  \n",
       "6692        4  \n",
       "\n",
       "[2 rows x 37 columns]"
      ]
     },
     "execution_count": 38,
     "metadata": {},
     "output_type": "execute_result"
    }
   ],
   "source": [
    "# 2. Load Data\n",
    "df = pd.read_csv(\"input.csv\", parse_dates=['timestamp'])\n",
    "df = df.sort_values(\"timestamp\")\n",
    "\n",
    "# For prototype, we'll use: Subset last X days\n",
    "x_days = 2\n",
    "df = df[df['timestamp'] >= df['timestamp'].max() - pd.Timedelta(days=x_days)]\n",
    "print(df.shape)\n",
    "df.head(2)"
   ]
  },
  {
   "cell_type": "code",
   "execution_count": 31,
   "id": "90ae3ca4-7ae3-439b-8138-18311ba30007",
   "metadata": {},
   "outputs": [],
   "source": [
    "# 3. Feature Selection\n",
    "features = ['PM25', 'PM10', 'O3', 'SO2', 'NO', 'NO2', 'NOX', 'CO', 'CH4',\n",
    "            'NMHC', 'THC', 'wind_speed', 'wind_gust_speed',\n",
    "            'wind_direction', 'air_humidity', 'air_temperature',\n",
    "            'container_humidity', 'container_temperature', 'solar_radiation']\n",
    "target = 'AQI'"
   ]
  },
  {
   "cell_type": "code",
   "execution_count": 32,
   "id": "61eff6c7-7976-4113-8d43-f765ed2e5e55",
   "metadata": {},
   "outputs": [],
   "source": [
    "# 4. Framing the problem as Supervised Learning\n",
    "input_len = 24   # past 12 hours (30min × 24 = 12hr)\n",
    "output_len = 48  # next 24 hours (30min × 48 = 24hr)\n",
    "\n",
    "X, y = [], []\n",
    "for i in range(input_len, len(df) - output_len):\n",
    "    X.append(df[features].iloc[i - input_len:i].values.flatten())\n",
    "    y.append(df[target].iloc[i:i + output_len].values)\n",
    "\n",
    "X = np.array(X)\n",
    "y = np.array(y)"
   ]
  },
  {
   "cell_type": "code",
   "execution_count": 33,
   "id": "abcc55ca-1351-4869-af30-08678130efb8",
   "metadata": {},
   "outputs": [
    {
     "data": {
      "text/plain": [
       "((25, 456), (25, 48))"
      ]
     },
     "execution_count": 33,
     "metadata": {},
     "output_type": "execute_result"
    }
   ],
   "source": [
    "X.shape, y.shape"
   ]
  },
  {
   "cell_type": "code",
   "execution_count": 34,
   "id": "1b319d9a-ee56-4509-b4cf-e526da97f6d9",
   "metadata": {},
   "outputs": [],
   "source": [
    "# 5. Train-Test Split\n",
    "X_train, X_test, y_train, y_test = train_test_split(X, y, test_size=0.2, shuffle=False)"
   ]
  },
  {
   "cell_type": "code",
   "execution_count": 35,
   "id": "e93b3d11-1d3e-4274-ac7a-3c43fc922dde",
   "metadata": {},
   "outputs": [],
   "source": [
    "# 6. Normalize\n",
    "scaler = StandardScaler()\n",
    "X_train_scaled = scaler.fit_transform(X_train)\n",
    "X_test_scaled = scaler.transform(X_test)"
   ]
  },
  {
   "cell_type": "code",
   "execution_count": 36,
   "id": "2731c3ec-ff13-4cc7-82d5-5c0e92d363ea",
   "metadata": {},
   "outputs": [
    {
     "data": {
      "text/html": [
       "<style>#sk-container-id-1 {color: black;background-color: white;}#sk-container-id-1 pre{padding: 0;}#sk-container-id-1 div.sk-toggleable {background-color: white;}#sk-container-id-1 label.sk-toggleable__label {cursor: pointer;display: block;width: 100%;margin-bottom: 0;padding: 0.3em;box-sizing: border-box;text-align: center;}#sk-container-id-1 label.sk-toggleable__label-arrow:before {content: \"▸\";float: left;margin-right: 0.25em;color: #696969;}#sk-container-id-1 label.sk-toggleable__label-arrow:hover:before {color: black;}#sk-container-id-1 div.sk-estimator:hover label.sk-toggleable__label-arrow:before {color: black;}#sk-container-id-1 div.sk-toggleable__content {max-height: 0;max-width: 0;overflow: hidden;text-align: left;background-color: #f0f8ff;}#sk-container-id-1 div.sk-toggleable__content pre {margin: 0.2em;color: black;border-radius: 0.25em;background-color: #f0f8ff;}#sk-container-id-1 input.sk-toggleable__control:checked~div.sk-toggleable__content {max-height: 200px;max-width: 100%;overflow: auto;}#sk-container-id-1 input.sk-toggleable__control:checked~label.sk-toggleable__label-arrow:before {content: \"▾\";}#sk-container-id-1 div.sk-estimator input.sk-toggleable__control:checked~label.sk-toggleable__label {background-color: #d4ebff;}#sk-container-id-1 div.sk-label input.sk-toggleable__control:checked~label.sk-toggleable__label {background-color: #d4ebff;}#sk-container-id-1 input.sk-hidden--visually {border: 0;clip: rect(1px 1px 1px 1px);clip: rect(1px, 1px, 1px, 1px);height: 1px;margin: -1px;overflow: hidden;padding: 0;position: absolute;width: 1px;}#sk-container-id-1 div.sk-estimator {font-family: monospace;background-color: #f0f8ff;border: 1px dotted black;border-radius: 0.25em;box-sizing: border-box;margin-bottom: 0.5em;}#sk-container-id-1 div.sk-estimator:hover {background-color: #d4ebff;}#sk-container-id-1 div.sk-parallel-item::after {content: \"\";width: 100%;border-bottom: 1px solid gray;flex-grow: 1;}#sk-container-id-1 div.sk-label:hover label.sk-toggleable__label {background-color: #d4ebff;}#sk-container-id-1 div.sk-serial::before {content: \"\";position: absolute;border-left: 1px solid gray;box-sizing: border-box;top: 0;bottom: 0;left: 50%;z-index: 0;}#sk-container-id-1 div.sk-serial {display: flex;flex-direction: column;align-items: center;background-color: white;padding-right: 0.2em;padding-left: 0.2em;position: relative;}#sk-container-id-1 div.sk-item {position: relative;z-index: 1;}#sk-container-id-1 div.sk-parallel {display: flex;align-items: stretch;justify-content: center;background-color: white;position: relative;}#sk-container-id-1 div.sk-item::before, #sk-container-id-1 div.sk-parallel-item::before {content: \"\";position: absolute;border-left: 1px solid gray;box-sizing: border-box;top: 0;bottom: 0;left: 50%;z-index: -1;}#sk-container-id-1 div.sk-parallel-item {display: flex;flex-direction: column;z-index: 1;position: relative;background-color: white;}#sk-container-id-1 div.sk-parallel-item:first-child::after {align-self: flex-end;width: 50%;}#sk-container-id-1 div.sk-parallel-item:last-child::after {align-self: flex-start;width: 50%;}#sk-container-id-1 div.sk-parallel-item:only-child::after {width: 0;}#sk-container-id-1 div.sk-dashed-wrapped {border: 1px dashed gray;margin: 0 0.4em 0.5em 0.4em;box-sizing: border-box;padding-bottom: 0.4em;background-color: white;}#sk-container-id-1 div.sk-label label {font-family: monospace;font-weight: bold;display: inline-block;line-height: 1.2em;}#sk-container-id-1 div.sk-label-container {text-align: center;}#sk-container-id-1 div.sk-container {/* jupyter's `normalize.less` sets `[hidden] { display: none; }` but bootstrap.min.css set `[hidden] { display: none !important; }` so we also need the `!important` here to be able to override the default hidden behavior on the sphinx rendered scikit-learn.org. See: https://github.com/scikit-learn/scikit-learn/issues/21755 */display: inline-block !important;position: relative;}#sk-container-id-1 div.sk-text-repr-fallback {display: none;}</style><div id=\"sk-container-id-1\" class=\"sk-top-container\"><div class=\"sk-text-repr-fallback\"><pre>MultiOutputRegressor(estimator=GradientBoostingRegressor())</pre><b>In a Jupyter environment, please rerun this cell to show the HTML representation or trust the notebook. <br />On GitHub, the HTML representation is unable to render, please try loading this page with nbviewer.org.</b></div><div class=\"sk-container\" hidden><div class=\"sk-item sk-dashed-wrapped\"><div class=\"sk-label-container\"><div class=\"sk-label sk-toggleable\"><input class=\"sk-toggleable__control sk-hidden--visually\" id=\"sk-estimator-id-1\" type=\"checkbox\" ><label for=\"sk-estimator-id-1\" class=\"sk-toggleable__label sk-toggleable__label-arrow\">MultiOutputRegressor</label><div class=\"sk-toggleable__content\"><pre>MultiOutputRegressor(estimator=GradientBoostingRegressor())</pre></div></div></div><div class=\"sk-parallel\"><div class=\"sk-parallel-item\"><div class=\"sk-item\"><div class=\"sk-label-container\"><div class=\"sk-label sk-toggleable\"><input class=\"sk-toggleable__control sk-hidden--visually\" id=\"sk-estimator-id-2\" type=\"checkbox\" ><label for=\"sk-estimator-id-2\" class=\"sk-toggleable__label sk-toggleable__label-arrow\">estimator: GradientBoostingRegressor</label><div class=\"sk-toggleable__content\"><pre>GradientBoostingRegressor()</pre></div></div></div><div class=\"sk-serial\"><div class=\"sk-item\"><div class=\"sk-estimator sk-toggleable\"><input class=\"sk-toggleable__control sk-hidden--visually\" id=\"sk-estimator-id-3\" type=\"checkbox\" ><label for=\"sk-estimator-id-3\" class=\"sk-toggleable__label sk-toggleable__label-arrow\">GradientBoostingRegressor</label><div class=\"sk-toggleable__content\"><pre>GradientBoostingRegressor()</pre></div></div></div></div></div></div></div></div></div></div>"
      ],
      "text/plain": [
       "MultiOutputRegressor(estimator=GradientBoostingRegressor())"
      ]
     },
     "execution_count": 36,
     "metadata": {},
     "output_type": "execute_result"
    }
   ],
   "source": [
    "# 7. Model Training\n",
    "# Caution: Might takes time! Please be patient, monitor your CPU & Memory usage.\n",
    "base_model = GradientBoostingRegressor()\n",
    "model = MultiOutputRegressor(base_model)\n",
    "model.fit(X_train_scaled, y_train)"
   ]
  },
  {
   "cell_type": "code",
   "execution_count": 37,
   "id": "155a4d56-2926-42ea-b7c3-263ae14fed58",
   "metadata": {},
   "outputs": [
    {
     "data": {
      "text/plain": [
       "['aqi_scaler.pkl']"
      ]
     },
     "execution_count": 37,
     "metadata": {},
     "output_type": "execute_result"
    }
   ],
   "source": [
    "# 8. Save Model\n",
    "joblib.dump(model, 'aqi_forecast_model.pkl')\n",
    "joblib.dump(scaler, 'aqi_scaler.pkl')"
   ]
  },
  {
   "cell_type": "markdown",
   "id": "e1361bb8-89df-4b4a-ace8-e3dbf21e9da4",
   "metadata": {},
   "source": [
    "#### Inference Pipeline"
   ]
  },
  {
   "cell_type": "code",
   "execution_count": 45,
   "id": "922c4e9e-fefd-4ef3-a59d-8dc50a01ad4e",
   "metadata": {},
   "outputs": [
    {
     "data": {
      "text/plain": [
       "(5, 456)"
      ]
     },
     "execution_count": 45,
     "metadata": {},
     "output_type": "execute_result"
    }
   ],
   "source": [
    "X_test_scaled.shape"
   ]
  },
  {
   "cell_type": "code",
   "execution_count": 39,
   "id": "3c911d62-665b-4c6a-bcc3-9a3157078a39",
   "metadata": {},
   "outputs": [
    {
     "name": "stdout",
     "output_type": "stream",
     "text": [
      "Mean Absolute Error (MAE): 2.427852716662926\n"
     ]
    }
   ],
   "source": [
    "# 9. Inference\n",
    "y_pred = model.predict(X_test_scaled)\n",
    "print(\"Mean Absolute Error (MAE):\", mean_absolute_error(y_test, y_pred))"
   ]
  },
  {
   "cell_type": "code",
   "execution_count": 47,
   "id": "dcee880a-478a-47f6-9602-b7900954d26c",
   "metadata": {},
   "outputs": [
    {
     "data": {
      "image/png": "[encoded data removed]",
      "text/plain": [
       "<Figure size 640x480 with 1 Axes>"
      ]
     },
     "metadata": {},
     "output_type": "display_data"
    }
   ],
   "source": [
    "# 10. Visualization Example of the first 24 hours rolling window\n",
    "plt.plot(y_test[0], label='True AQI')\n",
    "plt.plot(y_pred[0], label='Predicted AQI')\n",
    "plt.title('Next 24H AQI Forecast (48 Point × 30min) = 24 Hours')\n",
    "plt.legend()\n",
    "\n",
    "plt.xlabel(\"Interval (30 min-steps)\")\n",
    "plt.ylabel(\"AQI\")\n",
    "plt.show()"
   ]
  },
  {
   "cell_type": "markdown",
   "id": "6de58c98-14e9-47a7-a121-4e945d683878",
   "metadata": {},
   "source": [
    "#### API Inference"
   ]
  },
  {
   "cell_type": "code",
   "execution_count": 48,
   "id": "390ca844-3e0d-466a-817c-4ed6d469efb3",
   "metadata": {},
   "outputs": [],
   "source": [
    "import requests"
   ]
  },
  {
   "cell_type": "code",
   "execution_count": 67,
   "id": "8669d590-b7db-4f58-b22a-456c24a94cd5",
   "metadata": {},
   "outputs": [
    {
     "data": {
      "text/plain": [
       "6710   2025-05-23 04:00:00+00:00\n",
       "6711   2025-05-23 04:30:00+00:00\n",
       "6712   2025-05-23 05:00:00+00:00\n",
       "6713   2025-05-23 05:30:00+00:00\n",
       "6714   2025-05-23 06:00:00+00:00\n",
       "Name: timestamp, dtype: datetime64[ns, UTC]"
      ]
     },
     "execution_count": 67,
     "metadata": {},
     "output_type": "execute_result"
    }
   ],
   "source": [
    "# Taking last 12 hours data until 2025-05-23, 06.00 AM\n",
    "test_data = df.head(24)\n",
    "test_data.tail()['timestamp']"
   ]
  },
  {
   "cell_type": "code",
   "execution_count": 68,
   "id": "01813cf7-67ed-4d27-8b5f-c9cb04c85f76",
   "metadata": {},
   "outputs": [
    {
     "data": {
      "text/html": [
       "<div>\n",
       "<style scoped>\n",
       "    .dataframe tbody tr th:only-of-type {\n",
       "        vertical-align: middle;\n",
       "    }\n",
       "\n",
       "    .dataframe tbody tr th {\n",
       "        vertical-align: top;\n",
       "    }\n",
       "\n",
       "    .dataframe thead th {\n",
       "        text-align: right;\n",
       "    }\n",
       "</style>\n",
       "<table border=\"1\" class=\"dataframe\">\n",
       "  <thead>\n",
       "    <tr style=\"text-align: right;\">\n",
       "      <th></th>\n",
       "      <th>PM25</th>\n",
       "      <th>PM10</th>\n",
       "      <th>O3</th>\n",
       "      <th>SO2</th>\n",
       "      <th>NO</th>\n",
       "      <th>NO2</th>\n",
       "      <th>NOX</th>\n",
       "      <th>CO</th>\n",
       "      <th>CH4</th>\n",
       "      <th>NMHC</th>\n",
       "      <th>THC</th>\n",
       "      <th>wind_speed</th>\n",
       "      <th>wind_gust_speed</th>\n",
       "      <th>wind_direction</th>\n",
       "      <th>air_humidity</th>\n",
       "      <th>air_temperature</th>\n",
       "      <th>container_humidity</th>\n",
       "      <th>container_temperature</th>\n",
       "      <th>solar_radiation</th>\n",
       "      <th>timestamp</th>\n",
       "    </tr>\n",
       "  </thead>\n",
       "  <tbody>\n",
       "    <tr>\n",
       "      <th>6710</th>\n",
       "      <td>55.0600</td>\n",
       "      <td>55.6248</td>\n",
       "      <td>10.0082</td>\n",
       "      <td>6.6068</td>\n",
       "      <td>0.5094</td>\n",
       "      <td>13.9536</td>\n",
       "      <td>7.6750</td>\n",
       "      <td>387.2453</td>\n",
       "      <td>2.2948</td>\n",
       "      <td>0.3079</td>\n",
       "      <td>2.6035</td>\n",
       "      <td>0.8444</td>\n",
       "      <td>2.74</td>\n",
       "      <td>254.4333</td>\n",
       "      <td>97.0295</td>\n",
       "      <td>24.9551</td>\n",
       "      <td>28.1124</td>\n",
       "      <td>27.8351</td>\n",
       "      <td>0.2930</td>\n",
       "      <td>2025-05-23 04:00:00+00:00</td>\n",
       "    </tr>\n",
       "    <tr>\n",
       "      <th>6711</th>\n",
       "      <td>41.3033</td>\n",
       "      <td>55.4662</td>\n",
       "      <td>10.1767</td>\n",
       "      <td>6.7736</td>\n",
       "      <td>0.5458</td>\n",
       "      <td>15.1040</td>\n",
       "      <td>8.3033</td>\n",
       "      <td>346.1927</td>\n",
       "      <td>2.2730</td>\n",
       "      <td>0.2971</td>\n",
       "      <td>2.5707</td>\n",
       "      <td>0.7641</td>\n",
       "      <td>2.42</td>\n",
       "      <td>226.9425</td>\n",
       "      <td>96.4427</td>\n",
       "      <td>24.9511</td>\n",
       "      <td>27.1383</td>\n",
       "      <td>27.7342</td>\n",
       "      <td>0.2955</td>\n",
       "      <td>2025-05-23 04:30:00+00:00</td>\n",
       "    </tr>\n",
       "    <tr>\n",
       "      <th>6712</th>\n",
       "      <td>67.2918</td>\n",
       "      <td>61.0223</td>\n",
       "      <td>10.0151</td>\n",
       "      <td>7.3573</td>\n",
       "      <td>0.3823</td>\n",
       "      <td>13.8384</td>\n",
       "      <td>7.5133</td>\n",
       "      <td>401.0773</td>\n",
       "      <td>2.2878</td>\n",
       "      <td>0.3564</td>\n",
       "      <td>2.6446</td>\n",
       "      <td>0.7296</td>\n",
       "      <td>2.54</td>\n",
       "      <td>247.9116</td>\n",
       "      <td>96.1247</td>\n",
       "      <td>24.9637</td>\n",
       "      <td>27.8969</td>\n",
       "      <td>28.0405</td>\n",
       "      <td>0.2354</td>\n",
       "      <td>2025-05-23 05:00:00+00:00</td>\n",
       "    </tr>\n",
       "    <tr>\n",
       "      <th>6713</th>\n",
       "      <td>71.5250</td>\n",
       "      <td>51.0275</td>\n",
       "      <td>10.0773</td>\n",
       "      <td>7.6935</td>\n",
       "      <td>0.4198</td>\n",
       "      <td>12.4560</td>\n",
       "      <td>6.8233</td>\n",
       "      <td>382.3307</td>\n",
       "      <td>2.2947</td>\n",
       "      <td>0.2561</td>\n",
       "      <td>2.5505</td>\n",
       "      <td>0.7343</td>\n",
       "      <td>3.03</td>\n",
       "      <td>265.0283</td>\n",
       "      <td>95.6054</td>\n",
       "      <td>24.9153</td>\n",
       "      <td>28.3050</td>\n",
       "      <td>27.9257</td>\n",
       "      <td>0.2652</td>\n",
       "      <td>2025-05-23 05:30:00+00:00</td>\n",
       "    </tr>\n",
       "    <tr>\n",
       "      <th>6714</th>\n",
       "      <td>63.6993</td>\n",
       "      <td>55.8476</td>\n",
       "      <td>6.4324</td>\n",
       "      <td>7.9348</td>\n",
       "      <td>0.7063</td>\n",
       "      <td>14.9328</td>\n",
       "      <td>8.3425</td>\n",
       "      <td>463.2707</td>\n",
       "      <td>2.5365</td>\n",
       "      <td>0.3289</td>\n",
       "      <td>2.8644</td>\n",
       "      <td>0.4522</td>\n",
       "      <td>1.92</td>\n",
       "      <td>260.8912</td>\n",
       "      <td>95.6233</td>\n",
       "      <td>24.9090</td>\n",
       "      <td>27.8386</td>\n",
       "      <td>27.8395</td>\n",
       "      <td>0.6172</td>\n",
       "      <td>2025-05-23 06:00:00+00:00</td>\n",
       "    </tr>\n",
       "  </tbody>\n",
       "</table>\n",
       "</div>"
      ],
      "text/plain": [
       "         PM25     PM10       O3     SO2      NO      NO2     NOX        CO  \\\n",
       "6710  55.0600  55.6248  10.0082  6.6068  0.5094  13.9536  7.6750  387.2453   \n",
       "6711  41.3033  55.4662  10.1767  6.7736  0.5458  15.1040  8.3033  346.1927   \n",
       "6712  67.2918  61.0223  10.0151  7.3573  0.3823  13.8384  7.5133  401.0773   \n",
       "6713  71.5250  51.0275  10.0773  7.6935  0.4198  12.4560  6.8233  382.3307   \n",
       "6714  63.6993  55.8476   6.4324  7.9348  0.7063  14.9328  8.3425  463.2707   \n",
       "\n",
       "         CH4    NMHC     THC  wind_speed  wind_gust_speed  wind_direction  \\\n",
       "6710  2.2948  0.3079  2.6035      0.8444             2.74        254.4333   \n",
       "6711  2.2730  0.2971  2.5707      0.7641             2.42        226.9425   \n",
       "6712  2.2878  0.3564  2.6446      0.7296             2.54        247.9116   \n",
       "6713  2.2947  0.2561  2.5505      0.7343             3.03        265.0283   \n",
       "6714  2.5365  0.3289  2.8644      0.4522             1.92        260.8912   \n",
       "\n",
       "      air_humidity  air_temperature  container_humidity  \\\n",
       "6710       97.0295          24.9551             28.1124   \n",
       "6711       96.4427          24.9511             27.1383   \n",
       "6712       96.1247          24.9637             27.8969   \n",
       "6713       95.6054          24.9153             28.3050   \n",
       "6714       95.6233          24.9090             27.8386   \n",
       "\n",
       "      container_temperature  solar_radiation                 timestamp  \n",
       "6710                27.8351           0.2930 2025-05-23 04:00:00+00:00  \n",
       "6711                27.7342           0.2955 2025-05-23 04:30:00+00:00  \n",
       "6712                28.0405           0.2354 2025-05-23 05:00:00+00:00  \n",
       "6713                27.9257           0.2652 2025-05-23 05:30:00+00:00  \n",
       "6714                27.8395           0.6172 2025-05-23 06:00:00+00:00  "
      ]
     },
     "execution_count": 68,
     "metadata": {},
     "output_type": "execute_result"
    }
   ],
   "source": [
    "# Create test data, drop all unnecessary features & target (AQI)\n",
    "test_data_filtered = test_data[features+['timestamp']]\n",
    "test_data_filtered.tail()"
   ]
  },
  {
   "cell_type": "code",
   "execution_count": 69,
   "id": "220a2154-ed2c-4b4f-a50a-530e2b4dd3c9",
   "metadata": {},
   "outputs": [],
   "source": [
    "# Save the dummy data\n",
    "test_data_filtered.to_csv(\"recent_data.csv\")"
   ]
  },
  {
   "cell_type": "code",
   "execution_count": 86,
   "id": "9d1beacc-1634-47d9-bd53-0b6008f8bcb5",
   "metadata": {},
   "outputs": [
    {
     "name": "stdout",
     "output_type": "stream",
     "text": [
      "{'predicted_AQI_next_24h': [79.9999428929924, 79.99994156492244, 80.99991500352354, 80.99991367545361, 79.99993890878257, 78.99996547018145, 77.99999335965026, 76.0000504666579, 76.0000571070076, 76.00006374735733, 76.00006905963711, 76.00007437191688, 77.00005312279778, 77.00005577893765, 77.0000571070076, 77.0000571070076, 77.00005577893765, 77.00005445086771, 78.00002523332894, 78.00002124911911, 78.9999907035104, 79.99995750176178, 79.9999495333421, 79.99994156492244, 79.99993359650279, 79.99992695615306, 80.99989242633451, 80.9998831298449, 80.9998634175688, 79.99988844212467, 79.99987200386921, 79.99984041440045, 78.99986015980943, 77.99987204600822, 76.99991234738366, 75.99992961229295, 75.99992164387328, 74.99993890878257, 74.99993094036289, 74.99992297194323, 73.99994156492244, 73.99993492457273, 73.99992695615306, 73.99991898773337, 74.99988445791485, 73.99990172282412, 73.99989375440445, 72.99991101931373], 'step': 'Each step = 30 minutes', 'unit': 'AQI'}\n"
     ]
    }
   ],
   "source": [
    "# Get the predicted result for the next 24 hours\n",
    "files = {'file': open('recent_data.csv', 'rb')}\n",
    "res = requests.post(\"http://localhost:8080/predict\", files=files)\n",
    "print(res.json())"
   ]
  },
  {
   "cell_type": "code",
   "execution_count": 87,
   "id": "37019fbb-e84d-46a9-82b9-6a31a056b8fa",
   "metadata": {
    "scrolled": true
   },
   "outputs": [
    {
     "data": {
      "text/plain": [
       "6715    80\n",
       "6716    80\n",
       "6717    81\n",
       "6718    81\n",
       "6719    80\n",
       "6720    79\n",
       "6721    78\n",
       "6722    76\n",
       "6723    76\n",
       "6724    76\n",
       "6725    76\n",
       "6726    76\n",
       "6727    77\n",
       "6728    77\n",
       "6729    77\n",
       "6730    77\n",
       "6731    77\n",
       "6732    77\n",
       "6733    78\n",
       "6734    78\n",
       "6735    79\n",
       "6736    80\n",
       "6737    80\n",
       "6738    80\n",
       "Name: AQI, dtype: int64"
      ]
     },
     "execution_count": 87,
     "metadata": {},
     "output_type": "execute_result"
    }
   ],
   "source": [
    "# Cross check with real data in the next 24 hours\n",
    "df.iloc[24:48]['AQI']"
   ]
  },
  {
   "cell_type": "markdown",
   "id": "57d46aad-ad1e-490f-bd63-67155fc81e7c",
   "metadata": {},
   "source": [
    "#### Summary\n",
    "- In this prototype, for the sake of efficiency & proof-of-concept, we only use the most recent **2 days** of data during the **training**.\n",
    "- We could always increase the time window to (possibly) get more (seasonal/monthly) context.\n",
    "- Accuracy is not bad, as visualize on the above graph!"
   ]
  }
 ],
 "metadata": {
  "kernelspec": {
   "display_name": "composite",
   "language": "python",
   "name": "composite"
  },
  "language_info": {
   "codemirror_mode": {
    "name": "ipython",
    "version": 3
   },
   "file_extension": ".py",
   "mimetype": "text/x-python",
   "name": "python",
   "nbconvert_exporter": "python",
   "pygments_lexer": "ipython3",
   "version": "3.10.13"
  }
 },
 "nbformat": 4,
 "nbformat_minor": 5
}
